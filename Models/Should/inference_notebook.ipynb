{
 "cells": [
  {
   "cell_type": "markdown",
   "metadata": {},
   "source": [
    "# Import Functions"
   ]
  },
  {
   "cell_type": "code",
   "execution_count": null,
   "metadata": {},
   "outputs": [],
   "source": [
    "from Models.Should._utils import *\n",
    "from Models.Should.Dataset_creation import *\n",
    "from Models.Should.Should_LSTM import *"
   ]
  },
  {
   "cell_type": "markdown",
   "metadata": {},
   "source": [
    "# Before Running"
   ]
  },
  {
   "cell_type": "code",
   "execution_count": null,
   "metadata": {},
   "outputs": [],
   "source": [
    "dataset_path = '/kaggle/input/should-azimuth-complete-simulations/Must_Should_processed' # ADD DATASET PATH\n",
    "test_files = 'Trained_Models/test_files_Mxb1.txt' # ADD PATH TO FILES IN TEST SET OF PRETRAINED MODELS\n",
    "model_path = 'Trained_Models/model_2025-01-24_Mxb1.pt' # ADD PATH TO PRETRAINED MODEL\n",
    "load_axis = 'Mxb1' # MAKE SURE SELECTED MODEL MATCHES LOAD AXIS"
   ]
  },
  {
   "cell_type": "markdown",
   "metadata": {},
   "source": [
    "# Create Dataset"
   ]
  },
  {
   "cell_type": "code",
   "execution_count": null,
   "metadata": {},
   "outputs": [],
   "source": [
    "# Read the file containing the files in the test set\n",
    "with open(test_files, 'r') as file:\n",
    "    file_list = [line.strip('\\n') for line in file]\n",
    "\n",
    "# Select the corresponding label means and standard deviation of the model\n",
    "label_means = {\n",
    "    'Mxb1': (-1942.5360379140843, 21097.365971150757),\n",
    "    'Myb1': (0, 0)\n",
    "}\n",
    "train_label_mean, train_label_std = label_means[load_axis]\n",
    "\n",
    "# Create the dataset and dataloader\n",
    "datasets = {\n",
    "    'test': Should_Dataset(dataset_path, file_list, load_axis, train_label_mean, train_label_std),\n",
    "}\n",
    "\n",
    "batch_size = 4\n",
    "\n",
    "dataloaders = {\n",
    "    'test': DataLoader(datasets['test'], batch_size, shuffle=True)\n",
    "}\n",
    "\n",
    "print(f'The length of the test dataset is: {len(datasets[\"test\"])}')"
   ]
  },
  {
   "cell_type": "markdown",
   "metadata": {},
   "source": [
    "# Load the Model"
   ]
  },
  {
   "cell_type": "code",
   "execution_count": null,
   "metadata": {},
   "outputs": [],
   "source": [
    "# Create the model\n",
    "input_size = 2\n",
    "hidden_size = 128\n",
    "num_layers = 3\n",
    "dropout = 0.2\n",
    "proj_size = 1\n",
    "model = Should_model(input_size=input_size, \n",
    "                    hidden_size=hidden_size, \n",
    "                    num_layers=num_layers, \n",
    "                    dropout=dropout,\n",
    "                    proj_size=proj_size,\n",
    "                    batch_size=batch_size\n",
    "                    )\n",
    "\n",
    "\n",
    "# Define the loss function and optimizer\n",
    "loss_fn = nn.MSELoss()\n",
    "optimizer = torch.optim.Adam(model.parameters(), lr=0.001)\n",
    "device = torch.device('cuda:0' if torch.cuda.is_available() else 'cpu')\n",
    "print(f'The specified device is: {device}')\n",
    "print(f'The model architecture is:\\n{model}')"
   ]
  },
  {
   "cell_type": "code",
   "execution_count": null,
   "metadata": {},
   "outputs": [],
   "source": [
    "# Load the specified model\n",
    "model.load_state_dict(torch.load(model_path, weights_only=True))"
   ]
  },
  {
   "cell_type": "markdown",
   "metadata": {},
   "source": [
    "# Perform Inference"
   ]
  },
  {
   "cell_type": "code",
   "execution_count": null,
   "metadata": {},
   "outputs": [],
   "source": [
    "# Evaluate the model and plot inference\n",
    "test_loss, test_del_error = evaluate(model, dataloaders['test'], loss_fn, device=device)\n",
    "print(f'The loss over the test set is: {test_loss}\\nThe test DEL error is: {test_del_error}')\n",
    "plot_inference(model, dataloaders['test'], num_inf=3, num_splits=3, device=device)"
   ]
  }
 ],
 "metadata": {
  "kernelspec": {
   "display_name": "Python 3",
   "language": "python",
   "name": "python3"
  },
  "language_info": {
   "name": "python",
   "version": "3.12.8"
  }
 },
 "nbformat": 4,
 "nbformat_minor": 2
}
